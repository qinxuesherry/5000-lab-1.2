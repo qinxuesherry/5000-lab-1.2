{
  "cells": [
    {
      "cell_type": "markdown",
      "metadata": {},
      "source": [
        "project:\n",
        "  type: website\n",
        "\n",
        "website:\n",
        "  title: \"simple_quarto_website\"\n",
        "  navbar:\n",
        "    left:\n",
        "      - href: index.qmd\n",
        "        text: Home\n",
        "      - about.qmd\n",
        "\n",
        "format:\n",
        "  html:\n",
        "    theme: cosmo\n",
        "    toc: true\n"
      ]
    }
  ],
  "metadata": {
    "kernelspec": {
      "display_name": "Python 3 (ipykernel)",
      "language": "python",
      "name": "python3"
    }
  },
  "nbformat": 4,
  "nbformat_minor": 4
}
